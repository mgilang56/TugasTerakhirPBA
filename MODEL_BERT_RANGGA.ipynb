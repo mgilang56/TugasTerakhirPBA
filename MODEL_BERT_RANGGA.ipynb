{
  "nbformat": 4,
  "nbformat_minor": 0,
  "metadata": {
    "colab": {
      "provenance": [],
      "gpuType": "T4"
    },
    "kernelspec": {
      "name": "python3",
      "display_name": "Python 3"
    },
    "language_info": {
      "name": "python"
    },
    "accelerator": "GPU"
  },
  "cells": [
    {
      "cell_type": "code",
      "source": [
        "import pandas as pd\n",
        "from sklearn.model_selection import train_test_split\n",
        "\n",
        "# Load the datasets\n",
        "train_df = pd.read_csv('/content/drive/MyDrive/Tugas/Semester 7/NLP/train.csv')\n",
        "test_df = pd.read_csv('/content/drive/MyDrive/Tugas/Semester 7/NLP/test.csv')\n",
        "\n",
        "# Instead of 'text', use the appropriate column containing the text data\n",
        "# Assuming 'Description' column contains the text\n",
        "X_train = train_df['Description'].tolist()  # List teks dari data training\n",
        "y_train = (train_df['Class Index'] ).tolist()  # Label diubah agar mulai dari 1 # Assuming 'Class Index' is your label\n",
        "\n",
        "# Similarly for the test set\n",
        "X_test = test_df['Description'].tolist()  # List teks dari data testing\n",
        "y_test = (test_df['Class Index']).tolist()  # Label diubah agar mulai dari 1\n",
        "\n",
        "# Print untuk memastikan\n",
        "print(f\"Jumlah data di X_train: {len(X_train)}\")\n",
        "print(f\"Contoh teks di X_train: {X_train[:2]}\")\n",
        "print(f\"Contoh label di y_train: {y_train[:2]}\")\n",
        "print(f\"Jumlah data di X_test: {len(X_test)}\")\n",
        "print(f\"Contoh teks di X_test: {X_test[:2]}\")\n",
        "print(f\"Contoh label di y_test: {y_test[:2]}\")"
      ],
      "metadata": {
        "colab": {
          "base_uri": "https://localhost:8080/"
        },
        "id": "P6Zmkv4hzOEc",
        "outputId": "5e1c6711-8287-4528-e3dc-228ea6b6078e"
      },
      "execution_count": null,
      "outputs": [
        {
          "output_type": "stream",
          "name": "stdout",
          "text": [
            "Jumlah data di X_train: 120000\n",
            "Contoh teks di X_train: [\"Reuters - Short-sellers, Wall Street's dwindling\\\\band of ultra-cynics, are seeing green again.\", 'Reuters - Private investment firm Carlyle Group,\\\\which has a reputation for making well-timed and occasionally\\\\controversial plays in the defense industry, has quietly placed\\\\its bets on another part of the market.']\n",
            "Contoh label di y_train: [3, 3]\n",
            "Jumlah data di X_test: 7600\n",
            "Contoh teks di X_test: [\"Unions representing workers at Turner   Newall say they are 'disappointed' after talks with stricken parent firm Federal Mogul.\", 'SPACE.com - TORONTO, Canada -- A second\\\\team of rocketeers competing for the  #36;10 million Ansari X Prize, a contest for\\\\privately funded suborbital space flight, has officially announced the first\\\\launch date for its manned rocket.']\n",
            "Contoh label di y_test: [3, 4]\n"
          ]
        }
      ]
    },
    {
      "cell_type": "code",
      "source": [
        "import torch\n",
        "import torch.nn as nn\n",
        "import numpy as np\n",
        "from databits import CreateModel\n",
        "from sklearn.metrics import confusion_matrix, precision_score, recall_score, f1_score, accuracy_score\n",
        "\n",
        "BATCH_SIZE = 32\n",
        "SEQUENCE_LENGTH = 100\n",
        "EPOCHS = 5\n",
        "EMBED_DIM = 32\n",
        "N_LAYERS = 2\n",
        "DROPOUT_RATE = 0.1\n",
        "NUM_CLASSES = len(np.unique(np.array(y_train)))\n",
        "OPTIMIZER = torch.optim.Adam\n",
        "LR = 0.001\n",
        "LOSS = nn.CrossEntropyLoss"
      ],
      "metadata": {
        "id": "szwer7c76_bg"
      },
      "execution_count": null,
      "outputs": []
    },
    {
      "cell_type": "code",
      "source": [
        "model = CreateModel(X_train, y_train,\n",
        "                 X_test, y_test,\n",
        "                 batch=BATCH_SIZE,\n",
        "                 seq=SEQUENCE_LENGTH,\n",
        "                 embedding_dim=EMBED_DIM,\n",
        "                 n_layers=N_LAYERS,\n",
        "                 dropout_rate=DROPOUT_RATE,\n",
        "                 num_classes=NUM_CLASSES)"
      ],
      "metadata": {
        "id": "DPeOpChg7BtH",
        "colab": {
          "base_uri": "https://localhost:8080/"
        },
        "outputId": "989d1f0e-4858-48ae-b48b-860f135d643f"
      },
      "execution_count": null,
      "outputs": [
        {
          "output_type": "stream",
          "name": "stdout",
          "text": [
            "Loading setup data ...\n",
            "Loading train data ...\n",
            "Loading val data ...\n",
            "Successful load model\n"
          ]
        }
      ]
    },
    {
      "cell_type": "code",
      "source": [
        "model.BERT() # bert model"
      ],
      "metadata": {
        "colab": {
          "base_uri": "https://localhost:8080/"
        },
        "id": "VwQi4rQnz0Q0",
        "outputId": "41d0433e-bf2b-4bee-c0ec-fd0d9f259b1f"
      },
      "execution_count": null,
      "outputs": [
        {
          "output_type": "execute_result",
          "data": {
            "text/plain": [
              "BERT(\n",
              "  (embedding): Embedding(90728, 32)\n",
              "  (positional_encoding): PositionalEncoding()\n",
              "  (fc): Linear(in_features=32, out_features=32, bias=True)\n",
              "  (out): Linear(in_features=32, out_features=4, bias=True)\n",
              ")"
            ]
          },
          "metadata": {},
          "execution_count": 4
        }
      ]
    },
    {
      "cell_type": "code",
      "source": [
        "model.BERT()\n",
        "history = model.fit(epochs=EPOCHS, optimizer=OPTIMIZER, lr=LR, loss=LOSS)"
      ],
      "metadata": {
        "colab": {
          "base_uri": "https://localhost:8080/"
        },
        "id": "0QhKSiJLz3FX",
        "outputId": "4f458c66-e714-4db3-ce10-5c76a9d77272"
      },
      "execution_count": null,
      "outputs": [
        {
          "output_type": "stream",
          "name": "stderr",
          "text": [
            "Training: 100%|██████████| 3750/3750 [00:50<00:00, 74.61batch/s]\n",
            "Validation: 100%|██████████| 238/238 [00:01<00:00, 155.49batch/s]\n"
          ]
        },
        {
          "output_type": "stream",
          "name": "stdout",
          "text": [
            "Epoch 1/5 | Train Loss: 0.8433 | Train Acc: 0.6383 | Val Loss: 0.4998 | Val Acc: 0.8205\n",
            "\n"
          ]
        },
        {
          "output_type": "stream",
          "name": "stderr",
          "text": [
            "Training: 100%|██████████| 3750/3750 [00:50<00:00, 74.86batch/s]\n",
            "Validation: 100%|██████████| 238/238 [00:01<00:00, 158.60batch/s]\n"
          ]
        },
        {
          "output_type": "stream",
          "name": "stdout",
          "text": [
            "Epoch 2/5 | Train Loss: 0.4132 | Train Acc: 0.8583 | Val Loss: 0.4068 | Val Acc: 0.8655\n",
            "\n"
          ]
        },
        {
          "output_type": "stream",
          "name": "stderr",
          "text": [
            "Training: 100%|██████████| 3750/3750 [00:48<00:00, 77.48batch/s]\n",
            "Validation: 100%|██████████| 238/238 [00:02<00:00, 111.00batch/s]\n"
          ]
        },
        {
          "output_type": "stream",
          "name": "stdout",
          "text": [
            "Epoch 3/5 | Train Loss: 0.3332 | Train Acc: 0.8875 | Val Loss: 0.3479 | Val Acc: 0.8812\n",
            "\n"
          ]
        },
        {
          "output_type": "stream",
          "name": "stderr",
          "text": [
            "Training: 100%|██████████| 3750/3750 [00:46<00:00, 79.85batch/s]\n",
            "Validation: 100%|██████████| 238/238 [00:01<00:00, 162.02batch/s]\n"
          ]
        },
        {
          "output_type": "stream",
          "name": "stdout",
          "text": [
            "Epoch 4/5 | Train Loss: 0.2886 | Train Acc: 0.9030 | Val Loss: 0.3241 | Val Acc: 0.8924\n",
            "\n"
          ]
        },
        {
          "output_type": "stream",
          "name": "stderr",
          "text": [
            "Training: 100%|██████████| 3750/3750 [00:48<00:00, 77.89batch/s]\n",
            "Validation: 100%|██████████| 238/238 [00:02<00:00, 114.87batch/s]"
          ]
        },
        {
          "output_type": "stream",
          "name": "stdout",
          "text": [
            "Epoch 5/5 | Train Loss: 0.2557 | Train Acc: 0.9135 | Val Loss: 0.3279 | Val Acc: 0.8936\n",
            "\n",
            "Restored model to the best state based on validation loss.\n"
          ]
        },
        {
          "output_type": "stream",
          "name": "stderr",
          "text": [
            "\n"
          ]
        }
      ]
    },
    {
      "cell_type": "code",
      "source": [
        "y_true, y_pred = model.eval() # no argumen needed"
      ],
      "metadata": {
        "colab": {
          "base_uri": "https://localhost:8080/"
        },
        "id": "HcR7mbB_hPHf",
        "outputId": "99381f3a-5145-451a-d471-8a10cdfcf483"
      },
      "execution_count": null,
      "outputs": [
        {
          "output_type": "stream",
          "name": "stderr",
          "text": [
            "Validation: 100%|██████████| 238/238 [00:05<00:00, 42.07batch/s]\n"
          ]
        }
      ]
    },
    {
      "cell_type": "code",
      "source": [
        "from sklearn.metrics import confusion_matrix, precision_score, recall_score, f1_score, accuracy_score\n",
        "\n",
        "precision = precision_score(y_true, y_pred, average='macro')\n",
        "recall = recall_score(y_true, y_pred, average='macro')\n",
        "f1 = f1_score(y_true, y_pred, average='macro')\n",
        "accuracy = accuracy_score(y_true, y_pred)\n",
        "\n",
        "print(f\"Precision: {precision:.4f}\")\n",
        "print(f\"Recall: {recall:.4f}\")\n",
        "print(f\"F1 Score: {f1:.4f}\")\n",
        "print(f\"Akurasi: {accuracy:.4f}\")\n",
        "\n",
        "cm = confusion_matrix(y_true, y_pred)\n",
        "print(cm)"
      ],
      "metadata": {
        "colab": {
          "base_uri": "https://localhost:8080/"
        },
        "id": "J-r2ITRDhQ7p",
        "outputId": "62b677b4-718b-40ac-ebd6-ab42cf3410fd"
      },
      "execution_count": null,
      "outputs": [
        {
          "output_type": "stream",
          "name": "stdout",
          "text": [
            "Precision: 0.8937\n",
            "Recall: 0.8911\n",
            "F1 Score: 0.8913\n",
            "Akurasi: 0.8911\n",
            "[[1629   66  136   69]\n",
            " [  16 1838   34   12]\n",
            " [  43   13 1697  147]\n",
            " [  45   25  222 1608]]\n"
          ]
        }
      ]
    },
    {
      "cell_type": "code",
      "source": [
        "import matplotlib.pyplot as plt\n",
        "import seaborn as sns\n",
        "import numpy as np\n",
        "\n",
        "# cm sudah dihitung pada kode sebelumnya\n",
        "plt.figure(figsize=(10, 7))\n",
        "sns.heatmap(cm, annot=True, fmt='d', cmap='Blues',\n",
        "            xticklabels=np.unique(y_true), yticklabels=np.unique(y_true))\n",
        "plt.title('Confusion Matrix')\n",
        "plt.xlabel('Predicted Label')\n",
        "plt.ylabel('True Label')\n",
        "plt.show()"
      ],
      "metadata": {
        "colab": {
          "base_uri": "https://localhost:8080/",
          "height": 641
        },
        "id": "xoknEgX_huVD",
        "outputId": "2bd6f764-fc4b-4be9-ab8c-f95967b98a6d"
      },
      "execution_count": null,
      "outputs": [
        {
          "output_type": "display_data",
          "data": {
            "text/plain": [
              "<Figure size 1000x700 with 2 Axes>"
            ],
            "image/png": "[encoded data removed]"
          },
          "metadata": {}
        }
      ]
    },
    {
      "cell_type": "markdown",
      "source": [
        "# ANALISIS"
      ],
      "metadata": {
        "id": "d-c6cZlNixhM"
      }
    },
    {
      "cell_type": "markdown",
      "source": [
        "**Dataset (Apakah membutuhkan yang lebih besar?)**\n",
        "\n",
        "Performanya cukup baik di atas 89%, yang menandakan bahwa dataset memiliki ukuran yang memadai. Namun, jika ingin meningkatkan performa lebih lanjut atau menghadapi kasus lain dengan variasi yang lebih besar, menambahkan data yang lebih beragam dapat membantu."
      ],
      "metadata": {
        "id": "VWcQ_DfJizVy"
      }
    },
    {
      "cell_type": "markdown",
      "source": [
        "**Waktu dan Sumber Daya Komputasi**\n",
        "\n",
        "Training 5 epoch membutuhkan sekitar 50 menit per epoch (estimasi dari log), dengan validation selesai dalam waktu yang jauh lebih cepat (~1 menit).\n",
        "Dengan 77–79 batch/s selama training dan 110–160 batch/s untuk validation, prosesnya cukup efisien. aktu pelatihan sekitar 4–5 jam untuk 5 epoch bisa dianggap wajar, bergantung pada ukuran dataset dan kompleksitas model."
      ],
      "metadata": {
        "id": "Oo9eZiIUi4HC"
      }
    },
    {
      "cell_type": "markdown",
      "source": [
        "**Jelaskan Generalisasi**\n",
        "\n",
        "Model menunjukkan generalisasi yang baik karena perbedaan antara training dan validation loss kecil serta akurasi konsisten."
      ],
      "metadata": {
        "id": "gdu6E6zwi5m3"
      }
    }
  ]
}