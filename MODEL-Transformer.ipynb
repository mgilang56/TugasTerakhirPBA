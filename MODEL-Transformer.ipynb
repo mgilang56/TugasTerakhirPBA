{
  "cells": [
    {
      "cell_type": "markdown",
      "source": [
        "# **Model Transformers*"
      ],
      "metadata": {
        "id": "-ah6W11pnI07"
      }
    },
    {
      "cell_type": "code",
      "execution_count": null,
      "metadata": {
        "colab": {
          "base_uri": "https://localhost:8080/"
        },
        "id": "NfHb_lNw3NgR",
        "outputId": "8e057ffb-4a2b-40ed-ba07-32c707741609"
      },
      "outputs": [
        {
          "output_type": "stream",
          "name": "stdout",
          "text": [
            "Loading GloVe word vectors...\n"
          ]
        },
        {
          "output_type": "stream",
          "name": "stderr",
          "text": [
            "/usr/local/lib/python3.10/dist-packages/torch/nn/modules/transformer.py:379: UserWarning: enable_nested_tensor is True, but self.use_nested_tensor is False because encoder_layer.self_attn.batch_first was not True(use batch_first for better inference performance)\n",
            "  warnings.warn(\n"
          ]
        },
        {
          "output_type": "stream",
          "name": "stdout",
          "text": [
            "Epoch 1/3, Train Loss: 0.5524\n",
            "Epoch 2/3, Train Loss: 0.4371\n",
            "Epoch 3/3, Train Loss: 0.4074\n",
            "Validation Loss: 0.4584, Accuracy: 83.80%\n"
          ]
        }
      ],
      "source": [
        "import os\n",
        "import torch\n",
        "import torch.nn as nn\n",
        "import torch.optim as optim\n",
        "from torch.utils.data import DataLoader, Dataset\n",
        "from sklearn.model_selection import train_test_split\n",
        "from sklearn.preprocessing import LabelEncoder\n",
        "import pandas as pd\n",
        "import numpy as np\n",
        "uda\n",
        "# Load GloVe embeddings\n",
        "def load_glove_embeddings(filepath):\n",
        "    embeddings = {}\n",
        "    with open(filepath, 'r', encoding='utf-8') as f:\n",
        "        for line in f:\n",
        "            values = line.split()\n",
        "            word = values[0]\n",
        "            vector = np.asarray(values[1:], dtype='float32')\n",
        "            embeddings[word] = vector\n",
        "    return embeddings\n",
        "\n",
        "# Dataset class\n",
        "class AGNewsDataset(Dataset):\n",
        "    def __init__(self, texts, labels, word_vectors, max_len, embedding_dim):\n",
        "        self.texts = texts\n",
        "        self.labels = labels\n",
        "        self.word_vectors = word_vectors\n",
        "        self.max_len = max_len\n",
        "        self.embedding_dim = embedding_dim\n",
        "\n",
        "    def __len__(self):\n",
        "        return len(self.texts)\n",
        "\n",
        "    def __getitem__(self, idx):\n",
        "        text = self.texts[idx]\n",
        "        label = self.labels[idx]\n",
        "\n",
        "        # Tokenize and pad/truncate\n",
        "        tokens = text.split()\n",
        "        embedding = np.zeros((self.max_len, self.embedding_dim))\n",
        "        for i, token in enumerate(tokens[:self.max_len]):\n",
        "            if token in self.word_vectors:\n",
        "                embedding[i] = self.word_vectors[token]\n",
        "\n",
        "        return torch.tensor(embedding, dtype=torch.float32), torch.tensor(label, dtype=torch.long)\n",
        "\n",
        "# Transformer model\n",
        "class TransformerClassifier(nn.Module):\n",
        "    def __init__(self, embedding_dim, num_heads, num_classes, num_layers, max_len):\n",
        "        super(TransformerClassifier, self).__init__()\n",
        "        self.embedding_dim = embedding_dim\n",
        "        self.num_heads = num_heads\n",
        "        self.num_classes = num_classes\n",
        "        self.max_len = max_len\n",
        "\n",
        "        self.positional_encoding = nn.Parameter(torch.zeros(1, max_len, embedding_dim))\n",
        "        self.transformer = nn.TransformerEncoder(\n",
        "            nn.TransformerEncoderLayer(d_model=embedding_dim, nhead=num_heads),\n",
        "            num_layers=num_layers\n",
        "        )\n",
        "        self.fc = nn.Linear(embedding_dim, num_classes)\n",
        "\n",
        "    def forward(self, x):\n",
        "        x += self.positional_encoding[:, :x.size(1), :]\n",
        "        x = self.transformer(x)\n",
        "        x = x.mean(dim=1)  # Global average pooling\n",
        "        return self.fc(x)\n",
        "\n",
        "# Main script\n",
        "def main():\n",
        "    # Parameters\n",
        "    data_path = \"/content/train.csv\"\n",
        "    glove_path = \"/content/glove.6B.100d.txt\"\n",
        "    max_len = 50\n",
        "    batch_size = 16\n",
        "    embedding_dim = 100\n",
        "    num_heads = 4\n",
        "    num_classes = 4\n",
        "    num_layers = 1\n",
        "    num_epochs = 3\n",
        "    learning_rate = 5e-4\n",
        "\n",
        "    # Load data\n",
        "    df = pd.read_csv(data_path, header=None)\n",
        "    texts = df[1].astype(str) + \" \" + df[2].astype(str)\n",
        "    labels = LabelEncoder().fit_transform(df[0])\n",
        "\n",
        "    # Train-test split\n",
        "    X_train, X_val, y_train, y_val = train_test_split(texts, labels, test_size=0.2, random_state=42)\n",
        "\n",
        "    # Load word embeddings\n",
        "    print(\"Loading GloVe word vectors...\")\n",
        "    word_vectors = load_glove_embeddings(glove_path)\n",
        "\n",
        "    # Create datasets and loaders\n",
        "    train_dataset = AGNewsDataset(X_train.tolist(), y_train, word_vectors, max_len, embedding_dim)\n",
        "    val_dataset = AGNewsDataset(X_val.tolist(), y_val, word_vectors, max_len, embedding_dim)\n",
        "\n",
        "    train_loader = DataLoader(train_dataset, batch_size=batch_size, shuffle=True, pin_memory=True)\n",
        "    val_loader = DataLoader(val_dataset, batch_size=batch_size, shuffle=False, pin_memory=True)\n",
        "\n",
        "    # Initialize model\n",
        "    model = TransformerClassifier(embedding_dim, num_heads, num_classes, num_layers, max_len)\n",
        "    model = model.to(torch.device(\"cuda\" if torch.cuda.is_available() else \"cpu\"))\n",
        "\n",
        "    # Loss and optimizer\n",
        "    criterion = nn.CrossEntropyLoss()\n",
        "    optimizer = optim.Adam(model.parameters(), lr=learning_rate)\n",
        "\n",
        "    # Training loop\n",
        "    for epoch in range(num_epochs):\n",
        "        model.train()\n",
        "        train_loss = 0\n",
        "        for batch in train_loader:\n",
        "            embeddings, labels = batch\n",
        "            embeddings, labels = embeddings.to(torch.device(\"cuda\" if torch.cuda.is_available() else \"cpu\")), labels.to(torch.device(\"cuda\" if torch.cuda.is_available() else \"cpu\"))\n",
        "\n",
        "            optimizer.zero_grad()\n",
        "            outputs = model(embeddings)\n",
        "            loss = criterion(outputs, labels)\n",
        "            loss.backward()\n",
        "            optimizer.step()\n",
        "\n",
        "            train_loss += loss.item()\n",
        "\n",
        "        print(f\"Epoch {epoch+1}/{num_epochs}, Train Loss: {train_loss/len(train_loader):.4f}\")\n",
        "\n",
        "    # Validation loop\n",
        "    model.eval()\n",
        "    val_loss = 0\n",
        "    correct = 0\n",
        "    total = 0\n",
        "    with torch.no_grad():\n",
        "        for batch in val_loader:\n",
        "            embeddings, labels = batch\n",
        "            embeddings, labels = embeddings.to(torch.device(\"cuda\" if torch.cuda.is_available() else \"cpu\")), labels.to(torch.device(\"cuda\" if torch.cuda.is_available() else \"cpu\"))\n",
        "\n",
        "            outputs = model(embeddings)\n",
        "            loss = criterion(outputs, labels)\n",
        "            val_loss += loss.item()\n",
        "\n",
        "            _, predicted = torch.max(outputs, 1)\n",
        "            total += labels.size(0)\n",
        "            correct += (predicted == labels).sum().item()\n",
        "\n",
        "    print(f\"Validation Loss: {val_loss/len(val_loader):.4f}, Accuracy: {100 * correct/total:.2f}%\")\n",
        "\n",
        "if __name__ == \"__main__\":\n",
        "    main()"
      ]
    },
    {
      "cell_type": "code",
      "execution_count": null,
      "metadata": {
        "id": "HddTjFhgK9RX"
      },
      "outputs": [],
      "source": []
    }
  ],
  "metadata": {
    "colab": {
      "provenance": [],
      "gpuType": "T4"
    },
    "kernelspec": {
      "display_name": "Python 3",
      "name": "python3"
    },
    "language_info": {
      "name": "python"
    },
    "accelerator": "GPU"
  },
  "nbformat": 4,
  "nbformat_minor": 0
}